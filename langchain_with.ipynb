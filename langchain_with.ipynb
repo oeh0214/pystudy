{
 "cells": [
  {
   "cell_type": "code",
   "execution_count": 1,
   "id": "9bba2e59",
   "metadata": {},
   "outputs": [
    {
     "name": "stdout",
     "output_type": "stream",
     "text": [
      "Note: you may need to restart the kernel to use updated packages.\n"
     ]
    },
    {
     "name": "stderr",
     "output_type": "stream",
     "text": [
      "\n",
      "[notice] A new release of pip is available: 23.0.1 -> 25.1.1\n",
      "[notice] To update, run: c:\\Users\\softone\\.pyenv\\pyenv-win\\versions\\3.10.11\\python.exe -m pip install --upgrade pip\n"
     ]
    }
   ],
   "source": [
    "%pip install -q python-dotenv langchain-openai\n"
   ]
  },
  {
   "cell_type": "code",
   "execution_count": 1,
   "id": "aa2d01d5",
   "metadata": {},
   "outputs": [
    {
     "data": {
      "text/plain": [
       "'인프런은 다양한 분야의 온라인 강의를 제공하는 플랫폼입니다. 강의는 크게 다음과 같은 주제들로 나눌 수 있습니다:\\n\\n1. **프로그래밍 및 개발**\\n   - 웹 개발 (HTML, CSS, JavaScript, React, Angular 등)\\n   - 모바일 개발 (iOS, Android, Flutter 등)\\n   - 데이터베이스 (SQL, NoSQL 등)\\n   - 프로그래밍 언어 (Python, Java, C++, Go 등)\\n\\n2. **데이터 사이언스 및 AI**\\n   - 머신러닝 및 딥러닝\\n   - 데이터 분석 및 시각화\\n   - 통계 및 확률\\n\\n3. **디자인**\\n   - 그래픽 디자인\\n   - UI/UX 디자인\\n   - 3D 모델링 및 애니메이션\\n\\n4. **비즈니스 및 마케팅**\\n   - 온라인 마케팅\\n   - 창업 및 기업가 정신\\n   - 경영 및 리더십\\n\\n5. **자기계발**\\n   - 생산성 향상\\n   - 마인드풀니스 및 명상\\n   - 외국어 학습\\n\\n6. **기타 기술 및 취미**\\n   - 게임 개발\\n   - 음악 및 예술\\n   - 사진 및 영상 촬영\\n\\n각 강의는 전문가들이 제작하며, 초급부터 고급까지 다양한 난이도를 제공합니다. 인프런 웹사이트를 방문하면 현재 제공되는 강의의 세부 정보를 확인하고, 자신에게 맞는 강의를 선택할 수 있습니다.'"
      ]
     },
     "execution_count": 1,
     "metadata": {},
     "output_type": "execute_result"
    }
   ],
   "source": [
    "from dotenv import load_dotenv\n",
    "from langchain_openai import OpenAIEmbeddings\n",
    "from langchain_openai import ChatOpenAI\n",
    "load_dotenv()\n",
    "embedding = OpenAIEmbeddings(model ='text-embedding-3-large')\n",
    "llm= ChatOpenAI(model_name='gpt-4o')\n",
    "ai_message = llm.invoke(\"인프런에 어떤 강의가 있나요?\")\n",
    "\n",
    "ai_message.content"
   ]
  },
  {
   "cell_type": "code",
   "execution_count": 5,
   "id": "24c88858",
   "metadata": {},
   "outputs": [
    {
     "data": {
      "text/plain": [
       "'대한민국의 수도는 서울입니다.'"
      ]
     },
     "execution_count": 5,
     "metadata": {},
     "output_type": "execute_result"
    }
   ],
   "source": [
    "from langchain_openai import ChatOpenAI\n",
    "llm= ChatOpenAI(model_name='gpt-4o')\n",
    "ai_message = llm.invoke(\"대한민국 수도는 어디인가요\")\n",
    "\n",
    "ai_message.content"
   ]
  },
  {
   "cell_type": "code",
   "execution_count": 8,
   "id": "1e884607",
   "metadata": {},
   "outputs": [
    {
     "name": "stdout",
     "output_type": "stream",
     "text": [
      "Requirement already satisfied: python-dotenv in c:\\users\\softone\\.pyenv\\pyenv-win\\versions\\3.10.11\\lib\\site-packages (1.1.0)\n",
      "Collecting langchain\n",
      "  Downloading langchain-0.3.25-py3-none-any.whl (1.0 MB)\n",
      "     ---------------------------------------- 0.0/1.0 MB ? eta -:--:--\n",
      "     --------------------------------- ------ 0.8/1.0 MB 17.6 MB/s eta 0:00:01\n",
      "     ---------------------------------------- 1.0/1.0 MB 15.9 MB/s eta 0:00:00\n",
      "Requirement already satisfied: langchain-openai in c:\\users\\softone\\.pyenv\\pyenv-win\\versions\\3.10.11\\lib\\site-packages (0.3.21)\n",
      "Collecting langchain-community\n",
      "  Downloading langchain_community-0.3.24-py3-none-any.whl (2.5 MB)\n",
      "     ---------------------------------------- 0.0/2.5 MB ? eta -:--:--\n",
      "     ----------------------------------- ---- 2.2/2.5 MB 72.0 MB/s eta 0:00:01\n",
      "     ---------------------------------------- 2.5/2.5 MB 53.6 MB/s eta 0:00:00\n",
      "Collecting langchain-text-splitters\n",
      "  Downloading langchain_text_splitters-0.3.8-py3-none-any.whl (32 kB)\n",
      "Collecting docx2txt\n",
      "  Downloading docx2txt-0.9-py3-none-any.whl (4.0 kB)\n",
      "Collecting async-timeout<5.0.0,>=4.0.0\n",
      "  Downloading async_timeout-4.0.3-py3-none-any.whl (5.7 kB)\n",
      "Requirement already satisfied: langchain-core<1.0.0,>=0.3.58 in c:\\users\\softone\\.pyenv\\pyenv-win\\versions\\3.10.11\\lib\\site-packages (from langchain) (0.3.64)\n",
      "Requirement already satisfied: langsmith<0.4,>=0.1.17 in c:\\users\\softone\\.pyenv\\pyenv-win\\versions\\3.10.11\\lib\\site-packages (from langchain) (0.3.45)\n",
      "Requirement already satisfied: PyYAML>=5.3 in c:\\users\\softone\\.pyenv\\pyenv-win\\versions\\3.10.11\\lib\\site-packages (from langchain) (6.0.2)\n",
      "Requirement already satisfied: requests<3,>=2 in c:\\users\\softone\\.pyenv\\pyenv-win\\versions\\3.10.11\\lib\\site-packages (from langchain) (2.32.4)\n",
      "Collecting SQLAlchemy<3,>=1.4\n",
      "  Downloading sqlalchemy-2.0.41-cp310-cp310-win_amd64.whl (2.1 MB)\n",
      "     ---------------------------------------- 0.0/2.1 MB ? eta -:--:--\n",
      "     ---------------------------------------  2.1/2.1 MB 67.7 MB/s eta 0:00:01\n",
      "     ---------------------------------------- 2.1/2.1 MB 33.9 MB/s eta 0:00:00\n",
      "Requirement already satisfied: pydantic<3.0.0,>=2.7.4 in c:\\users\\softone\\.pyenv\\pyenv-win\\versions\\3.10.11\\lib\\site-packages (from langchain) (2.11.5)\n",
      "Requirement already satisfied: tiktoken<1,>=0.7 in c:\\users\\softone\\.pyenv\\pyenv-win\\versions\\3.10.11\\lib\\site-packages (from langchain-openai) (0.9.0)\n",
      "Requirement already satisfied: openai<2.0.0,>=1.68.2 in c:\\users\\softone\\.pyenv\\pyenv-win\\versions\\3.10.11\\lib\\site-packages (from langchain-openai) (1.85.0)\n",
      "Collecting pydantic-settings<3.0.0,>=2.4.0\n",
      "  Downloading pydantic_settings-2.9.1-py3-none-any.whl (44 kB)\n",
      "     ---------------------------------------- 0.0/44.4 kB ? eta -:--:--\n",
      "     ---------------------------------------- 44.4/44.4 kB ? eta 0:00:00\n",
      "Collecting dataclasses-json<0.7,>=0.5.7\n",
      "  Downloading dataclasses_json-0.6.7-py3-none-any.whl (28 kB)\n",
      "Collecting httpx-sse<1.0.0,>=0.4.0\n",
      "  Downloading httpx_sse-0.4.0-py3-none-any.whl (7.8 kB)\n",
      "Collecting aiohttp<4.0.0,>=3.8.3\n",
      "  Downloading aiohttp-3.12.12-cp310-cp310-win_amd64.whl (450 kB)\n",
      "     ---------------------------------------- 0.0/450.7 kB ? eta -:--:--\n",
      "     ---------------------------------------- 450.7/450.7 kB ? eta 0:00:00\n",
      "Requirement already satisfied: tenacity!=8.4.0,<10,>=8.1.0 in c:\\users\\softone\\.pyenv\\pyenv-win\\versions\\3.10.11\\lib\\site-packages (from langchain-community) (9.1.2)\n",
      "Collecting numpy>=1.26.2\n",
      "  Downloading numpy-2.2.6-cp310-cp310-win_amd64.whl (12.9 MB)\n",
      "     ---------------------------------------- 0.0/12.9 MB ? eta -:--:--\n",
      "     ----- ---------------------------------- 1.8/12.9 MB 56.5 MB/s eta 0:00:01\n",
      "     --------- ------------------------------ 3.1/12.9 MB 50.5 MB/s eta 0:00:01\n",
      "     --------- ------------------------------ 3.1/12.9 MB 50.5 MB/s eta 0:00:01\n",
      "     ------------ --------------------------- 4.1/12.9 MB 23.8 MB/s eta 0:00:01\n",
      "     -------------------- ------------------- 6.7/12.9 MB 30.7 MB/s eta 0:00:01\n",
      "     -------------------------- ------------- 8.6/12.9 MB 32.3 MB/s eta 0:00:01\n",
      "     -------------------------------- ------ 10.6/12.9 MB 32.8 MB/s eta 0:00:01\n",
      "     ------------------------------------ -- 12.1/12.9 MB 32.8 MB/s eta 0:00:01\n",
      "     --------------------------------------  12.8/12.9 MB 29.7 MB/s eta 0:00:01\n",
      "     --------------------------------------  12.9/12.9 MB 28.4 MB/s eta 0:00:01\n",
      "     --------------------------------------- 12.9/12.9 MB 24.2 MB/s eta 0:00:00\n",
      "Collecting aiohappyeyeballs>=2.5.0\n",
      "  Downloading aiohappyeyeballs-2.6.1-py3-none-any.whl (15 kB)\n",
      "Collecting aiosignal>=1.1.2\n",
      "  Downloading aiosignal-1.3.2-py2.py3-none-any.whl (7.6 kB)\n",
      "Collecting attrs>=17.3.0\n",
      "  Using cached attrs-25.3.0-py3-none-any.whl (63 kB)\n",
      "Collecting yarl<2.0,>=1.17.0\n",
      "  Downloading yarl-1.20.1-cp310-cp310-win_amd64.whl (86 kB)\n",
      "     ---------------------------------------- 0.0/86.8 kB ? eta -:--:--\n",
      "     ---------------------------------------- 86.8/86.8 kB ? eta 0:00:00\n",
      "Collecting propcache>=0.2.0\n",
      "  Downloading propcache-0.3.2-cp310-cp310-win_amd64.whl (41 kB)\n",
      "     ---------------------------------------- 0.0/41.5 kB ? eta -:--:--\n",
      "     ---------------------------------------- 41.5/41.5 kB ? eta 0:00:00\n",
      "Collecting frozenlist>=1.1.1\n",
      "  Downloading frozenlist-1.7.0-cp310-cp310-win_amd64.whl (43 kB)\n",
      "     ---------------------------------------- 0.0/43.8 kB ? eta -:--:--\n",
      "     ---------------------------------------- 43.8/43.8 kB ? eta 0:00:00\n",
      "Collecting multidict<7.0,>=4.5\n",
      "  Downloading multidict-6.4.4-cp310-cp310-win_amd64.whl (38 kB)\n",
      "Collecting marshmallow<4.0.0,>=3.18.0\n",
      "  Downloading marshmallow-3.26.1-py3-none-any.whl (50 kB)\n",
      "     ---------------------------------------- 0.0/50.9 kB ? eta -:--:--\n",
      "     ---------------------------------------- 50.9/50.9 kB 2.7 MB/s eta 0:00:00\n",
      "Collecting typing-inspect<1,>=0.4.0\n",
      "  Downloading typing_inspect-0.9.0-py3-none-any.whl (8.8 kB)\n",
      "Requirement already satisfied: packaging<25,>=23.2 in c:\\users\\softone\\.pyenv\\pyenv-win\\versions\\3.10.11\\lib\\site-packages (from langchain-core<1.0.0,>=0.3.58->langchain) (24.2)\n",
      "Requirement already satisfied: typing-extensions>=4.7 in c:\\users\\softone\\.pyenv\\pyenv-win\\versions\\3.10.11\\lib\\site-packages (from langchain-core<1.0.0,>=0.3.58->langchain) (4.14.0)\n",
      "Requirement already satisfied: jsonpatch<2.0,>=1.33 in c:\\users\\softone\\.pyenv\\pyenv-win\\versions\\3.10.11\\lib\\site-packages (from langchain-core<1.0.0,>=0.3.58->langchain) (1.33)\n",
      "Requirement already satisfied: orjson<4.0.0,>=3.9.14 in c:\\users\\softone\\.pyenv\\pyenv-win\\versions\\3.10.11\\lib\\site-packages (from langsmith<0.4,>=0.1.17->langchain) (3.10.18)\n",
      "Requirement already satisfied: httpx<1,>=0.23.0 in c:\\users\\softone\\.pyenv\\pyenv-win\\versions\\3.10.11\\lib\\site-packages (from langsmith<0.4,>=0.1.17->langchain) (0.28.1)\n",
      "Requirement already satisfied: zstandard<0.24.0,>=0.23.0 in c:\\users\\softone\\.pyenv\\pyenv-win\\versions\\3.10.11\\lib\\site-packages (from langsmith<0.4,>=0.1.17->langchain) (0.23.0)\n",
      "Requirement already satisfied: requests-toolbelt<2.0.0,>=1.0.0 in c:\\users\\softone\\.pyenv\\pyenv-win\\versions\\3.10.11\\lib\\site-packages (from langsmith<0.4,>=0.1.17->langchain) (1.0.0)\n",
      "Requirement already satisfied: jiter<1,>=0.4.0 in c:\\users\\softone\\.pyenv\\pyenv-win\\versions\\3.10.11\\lib\\site-packages (from openai<2.0.0,>=1.68.2->langchain-openai) (0.10.0)\n",
      "Requirement already satisfied: sniffio in c:\\users\\softone\\.pyenv\\pyenv-win\\versions\\3.10.11\\lib\\site-packages (from openai<2.0.0,>=1.68.2->langchain-openai) (1.3.1)\n",
      "Requirement already satisfied: distro<2,>=1.7.0 in c:\\users\\softone\\.pyenv\\pyenv-win\\versions\\3.10.11\\lib\\site-packages (from openai<2.0.0,>=1.68.2->langchain-openai) (1.9.0)\n",
      "Requirement already satisfied: tqdm>4 in c:\\users\\softone\\.pyenv\\pyenv-win\\versions\\3.10.11\\lib\\site-packages (from openai<2.0.0,>=1.68.2->langchain-openai) (4.67.1)\n",
      "Requirement already satisfied: anyio<5,>=3.5.0 in c:\\users\\softone\\.pyenv\\pyenv-win\\versions\\3.10.11\\lib\\site-packages (from openai<2.0.0,>=1.68.2->langchain-openai) (4.9.0)\n",
      "Requirement already satisfied: annotated-types>=0.6.0 in c:\\users\\softone\\.pyenv\\pyenv-win\\versions\\3.10.11\\lib\\site-packages (from pydantic<3.0.0,>=2.7.4->langchain) (0.7.0)\n",
      "Requirement already satisfied: typing-inspection>=0.4.0 in c:\\users\\softone\\.pyenv\\pyenv-win\\versions\\3.10.11\\lib\\site-packages (from pydantic<3.0.0,>=2.7.4->langchain) (0.4.1)\n",
      "Requirement already satisfied: pydantic-core==2.33.2 in c:\\users\\softone\\.pyenv\\pyenv-win\\versions\\3.10.11\\lib\\site-packages (from pydantic<3.0.0,>=2.7.4->langchain) (2.33.2)\n",
      "Requirement already satisfied: idna<4,>=2.5 in c:\\users\\softone\\.pyenv\\pyenv-win\\versions\\3.10.11\\lib\\site-packages (from requests<3,>=2->langchain) (3.10)\n",
      "Requirement already satisfied: urllib3<3,>=1.21.1 in c:\\users\\softone\\.pyenv\\pyenv-win\\versions\\3.10.11\\lib\\site-packages (from requests<3,>=2->langchain) (2.4.0)\n",
      "Requirement already satisfied: certifi>=2017.4.17 in c:\\users\\softone\\.pyenv\\pyenv-win\\versions\\3.10.11\\lib\\site-packages (from requests<3,>=2->langchain) (2025.4.26)\n",
      "Requirement already satisfied: charset_normalizer<4,>=2 in c:\\users\\softone\\.pyenv\\pyenv-win\\versions\\3.10.11\\lib\\site-packages (from requests<3,>=2->langchain) (3.4.2)\n",
      "Collecting greenlet>=1\n",
      "  Downloading greenlet-3.2.3-cp310-cp310-win_amd64.whl (296 kB)\n",
      "     ---------------------------------------- 0.0/296.6 kB ? eta -:--:--\n",
      "     ---------------------------------------- 296.6/296.6 kB ? eta 0:00:00\n",
      "Requirement already satisfied: regex>=2022.1.18 in c:\\users\\softone\\.pyenv\\pyenv-win\\versions\\3.10.11\\lib\\site-packages (from tiktoken<1,>=0.7->langchain-openai) (2024.11.6)\n",
      "Requirement already satisfied: exceptiongroup>=1.0.2 in c:\\users\\softone\\.pyenv\\pyenv-win\\versions\\3.10.11\\lib\\site-packages (from anyio<5,>=3.5.0->openai<2.0.0,>=1.68.2->langchain-openai) (1.3.0)\n",
      "Requirement already satisfied: httpcore==1.* in c:\\users\\softone\\.pyenv\\pyenv-win\\versions\\3.10.11\\lib\\site-packages (from httpx<1,>=0.23.0->langsmith<0.4,>=0.1.17->langchain) (1.0.9)\n",
      "Requirement already satisfied: h11>=0.16 in c:\\users\\softone\\.pyenv\\pyenv-win\\versions\\3.10.11\\lib\\site-packages (from httpcore==1.*->httpx<1,>=0.23.0->langsmith<0.4,>=0.1.17->langchain) (0.16.0)\n",
      "Requirement already satisfied: jsonpointer>=1.9 in c:\\users\\softone\\.pyenv\\pyenv-win\\versions\\3.10.11\\lib\\site-packages (from jsonpatch<2.0,>=1.33->langchain-core<1.0.0,>=0.3.58->langchain) (3.0.0)\n",
      "Requirement already satisfied: colorama in c:\\users\\softone\\.pyenv\\pyenv-win\\versions\\3.10.11\\lib\\site-packages (from tqdm>4->openai<2.0.0,>=1.68.2->langchain-openai) (0.4.6)\n",
      "Collecting mypy-extensions>=0.3.0\n",
      "  Downloading mypy_extensions-1.1.0-py3-none-any.whl (5.0 kB)\n",
      "Installing collected packages: docx2txt, propcache, numpy, mypy-extensions, multidict, marshmallow, httpx-sse, greenlet, frozenlist, attrs, async-timeout, aiohappyeyeballs, yarl, typing-inspect, SQLAlchemy, aiosignal, pydantic-settings, dataclasses-json, aiohttp, langchain-text-splitters, langchain, langchain-community\n",
      "Successfully installed SQLAlchemy-2.0.41 aiohappyeyeballs-2.6.1 aiohttp-3.12.12 aiosignal-1.3.2 async-timeout-4.0.3 attrs-25.3.0 dataclasses-json-0.6.7 docx2txt-0.9 frozenlist-1.7.0 greenlet-3.2.3 httpx-sse-0.4.0 langchain-0.3.25 langchain-community-0.3.24 langchain-text-splitters-0.3.8 marshmallow-3.26.1 multidict-6.4.4 mypy-extensions-1.1.0 numpy-2.2.6 propcache-0.3.2 pydantic-settings-2.9.1 typing-inspect-0.9.0 yarl-1.20.1\n",
      "Note: you may need to restart the kernel to use updated packages.\n"
     ]
    },
    {
     "name": "stderr",
     "output_type": "stream",
     "text": [
      "  WARNING: The scripts f2py.exe and numpy-config.exe are installed in 'c:\\Users\\softone\\.pyenv\\pyenv-win\\versions\\3.10.11\\Scripts' which is not on PATH.\n",
      "  Consider adding this directory to PATH or, if you prefer to suppress this warning, use --no-warn-script-location.\n",
      "\n",
      "[notice] A new release of pip is available: 23.0.1 -> 25.1.1\n",
      "[notice] To update, run: c:\\Users\\softone\\.pyenv\\pyenv-win\\versions\\3.10.11\\python.exe -m pip install --upgrade pip\n"
     ]
    },
    {
     "data": {
      "text/plain": [
       "1"
      ]
     },
     "execution_count": 8,
     "metadata": {},
     "output_type": "execute_result"
    }
   ],
   "source": [
    "%pip install python-dotenv langchain langchain-openai langchain-community langchain-text-splitters docx2txt\n",
    "\n",
    "from langchain_community.document_loaders import Docx2txtLoader\n",
    "\n",
    "loader = Docx2txtLoader('./tax.docx')\n",
    "document = loader.load()\n",
    "len(document)"
   ]
  },
  {
   "cell_type": "code",
   "execution_count": 20,
   "id": "89c98c1d",
   "metadata": {},
   "outputs": [],
   "source": [
    "from langchain_community.document_loaders import Docx2txtLoader\n",
    "from langchain_text_splitters import RecursiveCharacterTextSplitter\n",
    "\n",
    "text_splitter = RecursiveCharacterTextSplitter(\n",
    "    chunk_size=1500,\n",
    "    chunk_overlap=200, #overlap = 문맥을 이해하기 좋기 위해 어느정도 겹쳐서 진행되도록 한다.\n",
    ")\n",
    "\n",
    "loader = Docx2txtLoader('./tax.docx')\n",
    "document_list = loader.load_and_split(text_splitter=text_splitter)"
   ]
  },
  {
   "cell_type": "code",
   "execution_count": 21,
   "id": "e6922098",
   "metadata": {},
   "outputs": [
    {
     "data": {
      "text/plain": [
       "225"
      ]
     },
     "execution_count": 21,
     "metadata": {},
     "output_type": "execute_result"
    }
   ],
   "source": [
    "len(document_list)"
   ]
  },
  {
   "cell_type": "code",
   "execution_count": 22,
   "id": "45fe9cf7",
   "metadata": {},
   "outputs": [],
   "source": [
    "from dotenv import load_dotenv\n",
    "from langchain_openai import OpenAIEmbeddings\n",
    "\n",
    "load_dotenv()\n",
    "\n",
    "embedding = OpenAIEmbeddings(model='text-embedding-3-large')"
   ]
  },
  {
   "cell_type": "code",
   "execution_count": 15,
   "id": "5c4f9cce",
   "metadata": {},
   "outputs": [
    {
     "name": "stdout",
     "output_type": "stream",
     "text": [
      "Requirement already satisfied: langchain_chroma in c:\\users\\softone\\.pyenv\\pyenv-win\\versions\\3.10.11\\lib\\site-packages (0.2.4)\n",
      "Requirement already satisfied: chromadb>=1.0.9 in c:\\users\\softone\\.pyenv\\pyenv-win\\versions\\3.10.11\\lib\\site-packages (from langchain_chroma) (1.0.12)\n",
      "Requirement already satisfied: numpy>=1.26.0 in c:\\users\\softone\\.pyenv\\pyenv-win\\versions\\3.10.11\\lib\\site-packages (from langchain_chroma) (2.2.6)\n",
      "Requirement already satisfied: langchain-core>=0.3.60 in c:\\users\\softone\\.pyenv\\pyenv-win\\versions\\3.10.11\\lib\\site-packages (from langchain_chroma) (0.3.64)\n",
      "Requirement already satisfied: opentelemetry-sdk>=1.2.0 in c:\\users\\softone\\.pyenv\\pyenv-win\\versions\\3.10.11\\lib\\site-packages (from chromadb>=1.0.9->langchain_chroma) (1.34.0)\n",
      "Requirement already satisfied: tqdm>=4.65.0 in c:\\users\\softone\\.pyenv\\pyenv-win\\versions\\3.10.11\\lib\\site-packages (from chromadb>=1.0.9->langchain_chroma) (4.67.1)\n",
      "Requirement already satisfied: bcrypt>=4.0.1 in c:\\users\\softone\\.pyenv\\pyenv-win\\versions\\3.10.11\\lib\\site-packages (from chromadb>=1.0.9->langchain_chroma) (4.3.0)\n",
      "Requirement already satisfied: pypika>=0.48.9 in c:\\users\\softone\\.pyenv\\pyenv-win\\versions\\3.10.11\\lib\\site-packages (from chromadb>=1.0.9->langchain_chroma) (0.48.9)\n",
      "Requirement already satisfied: jsonschema>=4.19.0 in c:\\users\\softone\\.pyenv\\pyenv-win\\versions\\3.10.11\\lib\\site-packages (from chromadb>=1.0.9->langchain_chroma) (4.24.0)\n",
      "Requirement already satisfied: kubernetes>=28.1.0 in c:\\users\\softone\\.pyenv\\pyenv-win\\versions\\3.10.11\\lib\\site-packages (from chromadb>=1.0.9->langchain_chroma) (33.1.0)\n",
      "Requirement already satisfied: fastapi==0.115.9 in c:\\users\\softone\\.pyenv\\pyenv-win\\versions\\3.10.11\\lib\\site-packages (from chromadb>=1.0.9->langchain_chroma) (0.115.9)\n",
      "Requirement already satisfied: orjson>=3.9.12 in c:\\users\\softone\\.pyenv\\pyenv-win\\versions\\3.10.11\\lib\\site-packages (from chromadb>=1.0.9->langchain_chroma) (3.10.18)\n",
      "Requirement already satisfied: typer>=0.9.0 in c:\\users\\softone\\.pyenv\\pyenv-win\\versions\\3.10.11\\lib\\site-packages (from chromadb>=1.0.9->langchain_chroma) (0.16.0)\n",
      "Requirement already satisfied: pydantic>=1.9 in c:\\users\\softone\\.pyenv\\pyenv-win\\versions\\3.10.11\\lib\\site-packages (from chromadb>=1.0.9->langchain_chroma) (2.11.5)\n",
      "Requirement already satisfied: opentelemetry-instrumentation-fastapi>=0.41b0 in c:\\users\\softone\\.pyenv\\pyenv-win\\versions\\3.10.11\\lib\\site-packages (from chromadb>=1.0.9->langchain_chroma) (0.55b0)\n",
      "Requirement already satisfied: opentelemetry-api>=1.2.0 in c:\\users\\softone\\.pyenv\\pyenv-win\\versions\\3.10.11\\lib\\site-packages (from chromadb>=1.0.9->langchain_chroma) (1.34.0)\n",
      "Requirement already satisfied: posthog>=2.4.0 in c:\\users\\softone\\.pyenv\\pyenv-win\\versions\\3.10.11\\lib\\site-packages (from chromadb>=1.0.9->langchain_chroma) (4.6.1)\n",
      "Requirement already satisfied: overrides>=7.3.1 in c:\\users\\softone\\.pyenv\\pyenv-win\\versions\\3.10.11\\lib\\site-packages (from chromadb>=1.0.9->langchain_chroma) (7.7.0)\n",
      "Requirement already satisfied: onnxruntime>=1.14.1 in c:\\users\\softone\\.pyenv\\pyenv-win\\versions\\3.10.11\\lib\\site-packages (from chromadb>=1.0.9->langchain_chroma) (1.22.0)\n",
      "Requirement already satisfied: pyyaml>=6.0.0 in c:\\users\\softone\\.pyenv\\pyenv-win\\versions\\3.10.11\\lib\\site-packages (from chromadb>=1.0.9->langchain_chroma) (6.0.2)\n",
      "Requirement already satisfied: tokenizers>=0.13.2 in c:\\users\\softone\\.pyenv\\pyenv-win\\versions\\3.10.11\\lib\\site-packages (from chromadb>=1.0.9->langchain_chroma) (0.21.1)\n",
      "Requirement already satisfied: opentelemetry-exporter-otlp-proto-grpc>=1.2.0 in c:\\users\\softone\\.pyenv\\pyenv-win\\versions\\3.10.11\\lib\\site-packages (from chromadb>=1.0.9->langchain_chroma) (1.34.0)\n",
      "Requirement already satisfied: grpcio>=1.58.0 in c:\\users\\softone\\.pyenv\\pyenv-win\\versions\\3.10.11\\lib\\site-packages (from chromadb>=1.0.9->langchain_chroma) (1.73.0)\n",
      "Requirement already satisfied: importlib-resources in c:\\users\\softone\\.pyenv\\pyenv-win\\versions\\3.10.11\\lib\\site-packages (from chromadb>=1.0.9->langchain_chroma) (6.5.2)\n",
      "Requirement already satisfied: httpx>=0.27.0 in c:\\users\\softone\\.pyenv\\pyenv-win\\versions\\3.10.11\\lib\\site-packages (from chromadb>=1.0.9->langchain_chroma) (0.28.1)\n",
      "Requirement already satisfied: uvicorn[standard]>=0.18.3 in c:\\users\\softone\\.pyenv\\pyenv-win\\versions\\3.10.11\\lib\\site-packages (from chromadb>=1.0.9->langchain_chroma) (0.34.3)\n",
      "Requirement already satisfied: mmh3>=4.0.1 in c:\\users\\softone\\.pyenv\\pyenv-win\\versions\\3.10.11\\lib\\site-packages (from chromadb>=1.0.9->langchain_chroma) (5.1.0)\n",
      "Requirement already satisfied: rich>=10.11.0 in c:\\users\\softone\\.pyenv\\pyenv-win\\versions\\3.10.11\\lib\\site-packages (from chromadb>=1.0.9->langchain_chroma) (14.0.0)\n",
      "Requirement already satisfied: typing-extensions>=4.5.0 in c:\\users\\softone\\.pyenv\\pyenv-win\\versions\\3.10.11\\lib\\site-packages (from chromadb>=1.0.9->langchain_chroma) (4.14.0)\n",
      "Requirement already satisfied: tenacity>=8.2.3 in c:\\users\\softone\\.pyenv\\pyenv-win\\versions\\3.10.11\\lib\\site-packages (from chromadb>=1.0.9->langchain_chroma) (9.1.2)\n",
      "Requirement already satisfied: build>=1.0.3 in c:\\users\\softone\\.pyenv\\pyenv-win\\versions\\3.10.11\\lib\\site-packages (from chromadb>=1.0.9->langchain_chroma) (1.2.2.post1)\n",
      "Requirement already satisfied: starlette<0.46.0,>=0.40.0 in c:\\users\\softone\\.pyenv\\pyenv-win\\versions\\3.10.11\\lib\\site-packages (from fastapi==0.115.9->chromadb>=1.0.9->langchain_chroma) (0.45.3)\n",
      "Requirement already satisfied: jsonpatch<2.0,>=1.33 in c:\\users\\softone\\.pyenv\\pyenv-win\\versions\\3.10.11\\lib\\site-packages (from langchain-core>=0.3.60->langchain_chroma) (1.33)\n",
      "Requirement already satisfied: langsmith<0.4,>=0.3.45 in c:\\users\\softone\\.pyenv\\pyenv-win\\versions\\3.10.11\\lib\\site-packages (from langchain-core>=0.3.60->langchain_chroma) (0.3.45)\n",
      "Requirement already satisfied: packaging<25,>=23.2 in c:\\users\\softone\\.pyenv\\pyenv-win\\versions\\3.10.11\\lib\\site-packages (from langchain-core>=0.3.60->langchain_chroma) (24.2)\n",
      "Requirement already satisfied: colorama in c:\\users\\softone\\.pyenv\\pyenv-win\\versions\\3.10.11\\lib\\site-packages (from build>=1.0.3->chromadb>=1.0.9->langchain_chroma) (0.4.6)\n",
      "Requirement already satisfied: tomli>=1.1.0 in c:\\users\\softone\\.pyenv\\pyenv-win\\versions\\3.10.11\\lib\\site-packages (from build>=1.0.3->chromadb>=1.0.9->langchain_chroma) (2.2.1)\n",
      "Requirement already satisfied: pyproject_hooks in c:\\users\\softone\\.pyenv\\pyenv-win\\versions\\3.10.11\\lib\\site-packages (from build>=1.0.3->chromadb>=1.0.9->langchain_chroma) (1.2.0)\n",
      "Requirement already satisfied: certifi in c:\\users\\softone\\.pyenv\\pyenv-win\\versions\\3.10.11\\lib\\site-packages (from httpx>=0.27.0->chromadb>=1.0.9->langchain_chroma) (2025.4.26)\n",
      "Requirement already satisfied: httpcore==1.* in c:\\users\\softone\\.pyenv\\pyenv-win\\versions\\3.10.11\\lib\\site-packages (from httpx>=0.27.0->chromadb>=1.0.9->langchain_chroma) (1.0.9)\n",
      "Requirement already satisfied: anyio in c:\\users\\softone\\.pyenv\\pyenv-win\\versions\\3.10.11\\lib\\site-packages (from httpx>=0.27.0->chromadb>=1.0.9->langchain_chroma) (4.9.0)\n",
      "Requirement already satisfied: idna in c:\\users\\softone\\.pyenv\\pyenv-win\\versions\\3.10.11\\lib\\site-packages (from httpx>=0.27.0->chromadb>=1.0.9->langchain_chroma) (3.10)\n",
      "Requirement already satisfied: h11>=0.16 in c:\\users\\softone\\.pyenv\\pyenv-win\\versions\\3.10.11\\lib\\site-packages (from httpcore==1.*->httpx>=0.27.0->chromadb>=1.0.9->langchain_chroma) (0.16.0)\n",
      "Requirement already satisfied: jsonpointer>=1.9 in c:\\users\\softone\\.pyenv\\pyenv-win\\versions\\3.10.11\\lib\\site-packages (from jsonpatch<2.0,>=1.33->langchain-core>=0.3.60->langchain_chroma) (3.0.0)\n",
      "Requirement already satisfied: jsonschema-specifications>=2023.03.6 in c:\\users\\softone\\.pyenv\\pyenv-win\\versions\\3.10.11\\lib\\site-packages (from jsonschema>=4.19.0->chromadb>=1.0.9->langchain_chroma) (2025.4.1)\n",
      "Requirement already satisfied: attrs>=22.2.0 in c:\\users\\softone\\.pyenv\\pyenv-win\\versions\\3.10.11\\lib\\site-packages (from jsonschema>=4.19.0->chromadb>=1.0.9->langchain_chroma) (25.3.0)\n",
      "Requirement already satisfied: referencing>=0.28.4 in c:\\users\\softone\\.pyenv\\pyenv-win\\versions\\3.10.11\\lib\\site-packages (from jsonschema>=4.19.0->chromadb>=1.0.9->langchain_chroma) (0.36.2)\n",
      "Requirement already satisfied: rpds-py>=0.7.1 in c:\\users\\softone\\.pyenv\\pyenv-win\\versions\\3.10.11\\lib\\site-packages (from jsonschema>=4.19.0->chromadb>=1.0.9->langchain_chroma) (0.25.1)\n",
      "Requirement already satisfied: google-auth>=1.0.1 in c:\\users\\softone\\.pyenv\\pyenv-win\\versions\\3.10.11\\lib\\site-packages (from kubernetes>=28.1.0->chromadb>=1.0.9->langchain_chroma) (2.40.3)\n",
      "Requirement already satisfied: websocket-client!=0.40.0,!=0.41.*,!=0.42.*,>=0.32.0 in c:\\users\\softone\\.pyenv\\pyenv-win\\versions\\3.10.11\\lib\\site-packages (from kubernetes>=28.1.0->chromadb>=1.0.9->langchain_chroma) (1.8.0)\n",
      "Requirement already satisfied: six>=1.9.0 in c:\\users\\softone\\.pyenv\\pyenv-win\\versions\\3.10.11\\lib\\site-packages (from kubernetes>=28.1.0->chromadb>=1.0.9->langchain_chroma) (1.17.0)\n",
      "Requirement already satisfied: durationpy>=0.7 in c:\\users\\softone\\.pyenv\\pyenv-win\\versions\\3.10.11\\lib\\site-packages (from kubernetes>=28.1.0->chromadb>=1.0.9->langchain_chroma) (0.10)\n",
      "Requirement already satisfied: urllib3>=1.24.2 in c:\\users\\softone\\.pyenv\\pyenv-win\\versions\\3.10.11\\lib\\site-packages (from kubernetes>=28.1.0->chromadb>=1.0.9->langchain_chroma) (2.4.0)\n",
      "Requirement already satisfied: requests in c:\\users\\softone\\.pyenv\\pyenv-win\\versions\\3.10.11\\lib\\site-packages (from kubernetes>=28.1.0->chromadb>=1.0.9->langchain_chroma) (2.32.4)\n",
      "Requirement already satisfied: python-dateutil>=2.5.3 in c:\\users\\softone\\.pyenv\\pyenv-win\\versions\\3.10.11\\lib\\site-packages (from kubernetes>=28.1.0->chromadb>=1.0.9->langchain_chroma) (2.9.0.post0)\n",
      "Requirement already satisfied: requests-oauthlib in c:\\users\\softone\\.pyenv\\pyenv-win\\versions\\3.10.11\\lib\\site-packages (from kubernetes>=28.1.0->chromadb>=1.0.9->langchain_chroma) (2.0.0)\n",
      "Requirement already satisfied: oauthlib>=3.2.2 in c:\\users\\softone\\.pyenv\\pyenv-win\\versions\\3.10.11\\lib\\site-packages (from kubernetes>=28.1.0->chromadb>=1.0.9->langchain_chroma) (3.2.2)\n",
      "Requirement already satisfied: requests-toolbelt<2.0.0,>=1.0.0 in c:\\users\\softone\\.pyenv\\pyenv-win\\versions\\3.10.11\\lib\\site-packages (from langsmith<0.4,>=0.3.45->langchain-core>=0.3.60->langchain_chroma) (1.0.0)\n",
      "Requirement already satisfied: zstandard<0.24.0,>=0.23.0 in c:\\users\\softone\\.pyenv\\pyenv-win\\versions\\3.10.11\\lib\\site-packages (from langsmith<0.4,>=0.3.45->langchain-core>=0.3.60->langchain_chroma) (0.23.0)\n",
      "Requirement already satisfied: flatbuffers in c:\\users\\softone\\.pyenv\\pyenv-win\\versions\\3.10.11\\lib\\site-packages (from onnxruntime>=1.14.1->chromadb>=1.0.9->langchain_chroma) (25.2.10)\n",
      "Requirement already satisfied: sympy in c:\\users\\softone\\.pyenv\\pyenv-win\\versions\\3.10.11\\lib\\site-packages (from onnxruntime>=1.14.1->chromadb>=1.0.9->langchain_chroma) (1.14.0)\n",
      "Requirement already satisfied: coloredlogs in c:\\users\\softone\\.pyenv\\pyenv-win\\versions\\3.10.11\\lib\\site-packages (from onnxruntime>=1.14.1->chromadb>=1.0.9->langchain_chroma) (15.0.1)\n",
      "Requirement already satisfied: protobuf in c:\\users\\softone\\.pyenv\\pyenv-win\\versions\\3.10.11\\lib\\site-packages (from onnxruntime>=1.14.1->chromadb>=1.0.9->langchain_chroma) (5.29.5)\n",
      "Requirement already satisfied: importlib-metadata<8.8.0,>=6.0 in c:\\users\\softone\\.pyenv\\pyenv-win\\versions\\3.10.11\\lib\\site-packages (from opentelemetry-api>=1.2.0->chromadb>=1.0.9->langchain_chroma) (8.7.0)\n",
      "Requirement already satisfied: opentelemetry-proto==1.34.0 in c:\\users\\softone\\.pyenv\\pyenv-win\\versions\\3.10.11\\lib\\site-packages (from opentelemetry-exporter-otlp-proto-grpc>=1.2.0->chromadb>=1.0.9->langchain_chroma) (1.34.0)\n",
      "Requirement already satisfied: opentelemetry-exporter-otlp-proto-common==1.34.0 in c:\\users\\softone\\.pyenv\\pyenv-win\\versions\\3.10.11\\lib\\site-packages (from opentelemetry-exporter-otlp-proto-grpc>=1.2.0->chromadb>=1.0.9->langchain_chroma) (1.34.0)\n",
      "Requirement already satisfied: googleapis-common-protos~=1.52 in c:\\users\\softone\\.pyenv\\pyenv-win\\versions\\3.10.11\\lib\\site-packages (from opentelemetry-exporter-otlp-proto-grpc>=1.2.0->chromadb>=1.0.9->langchain_chroma) (1.70.0)\n",
      "Requirement already satisfied: opentelemetry-semantic-conventions==0.55b0 in c:\\users\\softone\\.pyenv\\pyenv-win\\versions\\3.10.11\\lib\\site-packages (from opentelemetry-instrumentation-fastapi>=0.41b0->chromadb>=1.0.9->langchain_chroma) (0.55b0)\n",
      "Requirement already satisfied: opentelemetry-instrumentation==0.55b0 in c:\\users\\softone\\.pyenv\\pyenv-win\\versions\\3.10.11\\lib\\site-packages (from opentelemetry-instrumentation-fastapi>=0.41b0->chromadb>=1.0.9->langchain_chroma) (0.55b0)\n",
      "Requirement already satisfied: opentelemetry-instrumentation-asgi==0.55b0 in c:\\users\\softone\\.pyenv\\pyenv-win\\versions\\3.10.11\\lib\\site-packages (from opentelemetry-instrumentation-fastapi>=0.41b0->chromadb>=1.0.9->langchain_chroma) (0.55b0)\n",
      "Requirement already satisfied: opentelemetry-util-http==0.55b0 in c:\\users\\softone\\.pyenv\\pyenv-win\\versions\\3.10.11\\lib\\site-packages (from opentelemetry-instrumentation-fastapi>=0.41b0->chromadb>=1.0.9->langchain_chroma) (0.55b0)\n",
      "Requirement already satisfied: wrapt<2.0.0,>=1.0.0 in c:\\users\\softone\\.pyenv\\pyenv-win\\versions\\3.10.11\\lib\\site-packages (from opentelemetry-instrumentation==0.55b0->opentelemetry-instrumentation-fastapi>=0.41b0->chromadb>=1.0.9->langchain_chroma) (1.17.2)\n",
      "Requirement already satisfied: asgiref~=3.0 in c:\\users\\softone\\.pyenv\\pyenv-win\\versions\\3.10.11\\lib\\site-packages (from opentelemetry-instrumentation-asgi==0.55b0->opentelemetry-instrumentation-fastapi>=0.41b0->chromadb>=1.0.9->langchain_chroma) (3.8.1)\n",
      "Requirement already satisfied: distro>=1.5.0 in c:\\users\\softone\\.pyenv\\pyenv-win\\versions\\3.10.11\\lib\\site-packages (from posthog>=2.4.0->chromadb>=1.0.9->langchain_chroma) (1.9.0)\n",
      "Requirement already satisfied: backoff>=1.10.0 in c:\\users\\softone\\.pyenv\\pyenv-win\\versions\\3.10.11\\lib\\site-packages (from posthog>=2.4.0->chromadb>=1.0.9->langchain_chroma) (2.2.1)\n",
      "Requirement already satisfied: annotated-types>=0.6.0 in c:\\users\\softone\\.pyenv\\pyenv-win\\versions\\3.10.11\\lib\\site-packages (from pydantic>=1.9->chromadb>=1.0.9->langchain_chroma) (0.7.0)\n",
      "Requirement already satisfied: typing-inspection>=0.4.0 in c:\\users\\softone\\.pyenv\\pyenv-win\\versions\\3.10.11\\lib\\site-packages (from pydantic>=1.9->chromadb>=1.0.9->langchain_chroma) (0.4.1)\n",
      "Requirement already satisfied: pydantic-core==2.33.2 in c:\\users\\softone\\.pyenv\\pyenv-win\\versions\\3.10.11\\lib\\site-packages (from pydantic>=1.9->chromadb>=1.0.9->langchain_chroma) (2.33.2)\n",
      "Requirement already satisfied: markdown-it-py>=2.2.0 in c:\\users\\softone\\.pyenv\\pyenv-win\\versions\\3.10.11\\lib\\site-packages (from rich>=10.11.0->chromadb>=1.0.9->langchain_chroma) (3.0.0)\n",
      "Requirement already satisfied: pygments<3.0.0,>=2.13.0 in c:\\users\\softone\\.pyenv\\pyenv-win\\versions\\3.10.11\\lib\\site-packages (from rich>=10.11.0->chromadb>=1.0.9->langchain_chroma) (2.19.1)\n",
      "Requirement already satisfied: huggingface-hub<1.0,>=0.16.4 in c:\\users\\softone\\.pyenv\\pyenv-win\\versions\\3.10.11\\lib\\site-packages (from tokenizers>=0.13.2->chromadb>=1.0.9->langchain_chroma) (0.32.4)\n",
      "Requirement already satisfied: shellingham>=1.3.0 in c:\\users\\softone\\.pyenv\\pyenv-win\\versions\\3.10.11\\lib\\site-packages (from typer>=0.9.0->chromadb>=1.0.9->langchain_chroma) (1.5.4)\n",
      "Requirement already satisfied: click>=8.0.0 in c:\\users\\softone\\.pyenv\\pyenv-win\\versions\\3.10.11\\lib\\site-packages (from typer>=0.9.0->chromadb>=1.0.9->langchain_chroma) (8.2.1)\n",
      "Requirement already satisfied: websockets>=10.4 in c:\\users\\softone\\.pyenv\\pyenv-win\\versions\\3.10.11\\lib\\site-packages (from uvicorn[standard]>=0.18.3->chromadb>=1.0.9->langchain_chroma) (15.0.1)\n",
      "Requirement already satisfied: python-dotenv>=0.13 in c:\\users\\softone\\.pyenv\\pyenv-win\\versions\\3.10.11\\lib\\site-packages (from uvicorn[standard]>=0.18.3->chromadb>=1.0.9->langchain_chroma) (1.1.0)\n",
      "Requirement already satisfied: watchfiles>=0.13 in c:\\users\\softone\\.pyenv\\pyenv-win\\versions\\3.10.11\\lib\\site-packages (from uvicorn[standard]>=0.18.3->chromadb>=1.0.9->langchain_chroma) (1.0.5)\n",
      "Requirement already satisfied: httptools>=0.6.3 in c:\\users\\softone\\.pyenv\\pyenv-win\\versions\\3.10.11\\lib\\site-packages (from uvicorn[standard]>=0.18.3->chromadb>=1.0.9->langchain_chroma) (0.6.4)\n",
      "Requirement already satisfied: rsa<5,>=3.1.4 in c:\\users\\softone\\.pyenv\\pyenv-win\\versions\\3.10.11\\lib\\site-packages (from google-auth>=1.0.1->kubernetes>=28.1.0->chromadb>=1.0.9->langchain_chroma) (4.9.1)\n",
      "Requirement already satisfied: cachetools<6.0,>=2.0.0 in c:\\users\\softone\\.pyenv\\pyenv-win\\versions\\3.10.11\\lib\\site-packages (from google-auth>=1.0.1->kubernetes>=28.1.0->chromadb>=1.0.9->langchain_chroma) (5.5.2)\n",
      "Requirement already satisfied: pyasn1-modules>=0.2.1 in c:\\users\\softone\\.pyenv\\pyenv-win\\versions\\3.10.11\\lib\\site-packages (from google-auth>=1.0.1->kubernetes>=28.1.0->chromadb>=1.0.9->langchain_chroma) (0.4.2)\n",
      "Requirement already satisfied: fsspec>=2023.5.0 in c:\\users\\softone\\.pyenv\\pyenv-win\\versions\\3.10.11\\lib\\site-packages (from huggingface-hub<1.0,>=0.16.4->tokenizers>=0.13.2->chromadb>=1.0.9->langchain_chroma) (2025.5.1)\n",
      "Requirement already satisfied: filelock in c:\\users\\softone\\.pyenv\\pyenv-win\\versions\\3.10.11\\lib\\site-packages (from huggingface-hub<1.0,>=0.16.4->tokenizers>=0.13.2->chromadb>=1.0.9->langchain_chroma) (3.18.0)\n",
      "Requirement already satisfied: zipp>=3.20 in c:\\users\\softone\\.pyenv\\pyenv-win\\versions\\3.10.11\\lib\\site-packages (from importlib-metadata<8.8.0,>=6.0->opentelemetry-api>=1.2.0->chromadb>=1.0.9->langchain_chroma) (3.23.0)\n",
      "Requirement already satisfied: mdurl~=0.1 in c:\\users\\softone\\.pyenv\\pyenv-win\\versions\\3.10.11\\lib\\site-packages (from markdown-it-py>=2.2.0->rich>=10.11.0->chromadb>=1.0.9->langchain_chroma) (0.1.2)\n",
      "Requirement already satisfied: charset_normalizer<4,>=2 in c:\\users\\softone\\.pyenv\\pyenv-win\\versions\\3.10.11\\lib\\site-packages (from requests->kubernetes>=28.1.0->chromadb>=1.0.9->langchain_chroma) (3.4.2)\n",
      "Requirement already satisfied: exceptiongroup>=1.0.2 in c:\\users\\softone\\.pyenv\\pyenv-win\\versions\\3.10.11\\lib\\site-packages (from anyio->httpx>=0.27.0->chromadb>=1.0.9->langchain_chroma) (1.3.0)\n",
      "Requirement already satisfied: sniffio>=1.1 in c:\\users\\softone\\.pyenv\\pyenv-win\\versions\\3.10.11\\lib\\site-packages (from anyio->httpx>=0.27.0->chromadb>=1.0.9->langchain_chroma) (1.3.1)\n",
      "Requirement already satisfied: humanfriendly>=9.1 in c:\\users\\softone\\.pyenv\\pyenv-win\\versions\\3.10.11\\lib\\site-packages (from coloredlogs->onnxruntime>=1.14.1->chromadb>=1.0.9->langchain_chroma) (10.0)\n",
      "Requirement already satisfied: mpmath<1.4,>=1.1.0 in c:\\users\\softone\\.pyenv\\pyenv-win\\versions\\3.10.11\\lib\\site-packages (from sympy->onnxruntime>=1.14.1->chromadb>=1.0.9->langchain_chroma) (1.3.0)\n",
      "Requirement already satisfied: pyreadline3 in c:\\users\\softone\\.pyenv\\pyenv-win\\versions\\3.10.11\\lib\\site-packages (from humanfriendly>=9.1->coloredlogs->onnxruntime>=1.14.1->chromadb>=1.0.9->langchain_chroma) (3.5.4)\n",
      "Requirement already satisfied: pyasn1<0.7.0,>=0.6.1 in c:\\users\\softone\\.pyenv\\pyenv-win\\versions\\3.10.11\\lib\\site-packages (from pyasn1-modules>=0.2.1->google-auth>=1.0.1->kubernetes>=28.1.0->chromadb>=1.0.9->langchain_chroma) (0.6.1)\n",
      "Note: you may need to restart the kernel to use updated packages.\n"
     ]
    },
    {
     "name": "stderr",
     "output_type": "stream",
     "text": [
      "\n",
      "[notice] A new release of pip is available: 23.0.1 -> 25.1.1\n",
      "[notice] To update, run: c:\\Users\\softone\\.pyenv\\pyenv-win\\versions\\3.10.11\\python.exe -m pip install --upgrade pip\n"
     ]
    }
   ],
   "source": [
    "%pip install --upgrade langchain_chroma"
   ]
  },
  {
   "cell_type": "code",
   "execution_count": 3,
   "id": "3f953fa8",
   "metadata": {},
   "outputs": [],
   "source": [
    "from dotenv import load_dotenv\n",
    "from langchain_openai import OpenAIEmbeddings\n",
    "\n",
    "load_dotenv()\n",
    "\n",
    "embedding = OpenAIEmbeddings(model='text-embedding-3-large')"
   ]
  },
  {
   "cell_type": "code",
   "execution_count": 23,
   "id": "f790e112",
   "metadata": {},
   "outputs": [],
   "source": [
    "from langchain_chroma import Chroma\n",
    "\n",
    "#chroma를 인메모리(끄면 사라짐.) -> 파일저장으로 바꾸는 과정.\n",
    "#database = Chroma.from_documents(documents=document_list,embedding=embedding)\n",
    "#database = Chroma.from_documents(documents=document_list,embedding=embedding, collection_name='chroma-tax', persist_directory=\"./chroma\")\n",
    "database= Chroma(collection_name='chroma-tax', persist_directory=\"./chroma\", embedding_function=embedding)"
   ]
  },
  {
   "cell_type": "code",
   "execution_count": 24,
   "id": "eb25dd8b",
   "metadata": {},
   "outputs": [],
   "source": [
    "query = '연봉 5천만원인 직장인의 소득세는 얼마인가요?'\n",
    "retrieved_docs= database.similarity_search(query, k=3)\n",
    "\n",
    "\n",
    "from langchain_openai import ChatOpenAI\n",
    "\n",
    "llm = ChatOpenAI(model='gpt-4o')\n",
    "\n"
   ]
  },
  {
   "cell_type": "code",
   "execution_count": 25,
   "id": "c4e84420",
   "metadata": {},
   "outputs": [
    {
     "name": "stderr",
     "output_type": "stream",
     "text": [
      "c:\\Users\\softone\\.pyenv\\pyenv-win\\versions\\3.10.11\\lib\\site-packages\\langsmith\\client.py:272: LangSmithMissingAPIKeyWarning: API key must be provided when using hosted LangSmith API\n",
      "  warnings.warn(\n"
     ]
    }
   ],
   "source": [
    "from langchain import hub\n",
    "\n",
    "prompt = hub.pull(\"rlm/rag-prompt\")"
   ]
  },
  {
   "cell_type": "code",
   "execution_count": 26,
   "id": "962e366f",
   "metadata": {},
   "outputs": [],
   "source": [
    "from langchain.chains import RetrievalQA\n",
    "\n",
    "qa_chain = RetrievalQA.from_chain_type(\n",
    "    llm, \n",
    "    retriever=database.as_retriever(),\n",
    "    chain_type_kwargs={\"prompt\": prompt}\n",
    ")"
   ]
  },
  {
   "cell_type": "code",
   "execution_count": 27,
   "id": "18ad3484",
   "metadata": {},
   "outputs": [],
   "source": [
    "ai_message = qa_chain.invoke({\"query\": query})"
   ]
  },
  {
   "cell_type": "code",
   "execution_count": 29,
   "id": "2cdbbd41",
   "metadata": {},
   "outputs": [
    {
     "data": {
      "text/plain": [
       "{'query': '연봉 5천만원인 직장인의 소득세는 얼마인가요?',\n",
       " 'result': '소득세는 다양한 요인에 따라 달라지므로, 연봉 5천만원인 직장인의 정확한 소득세를 계산하려면 구체적인 공제 사항과 세율을 알아야 합니다. 일반적으로 소득세는 모든 소득에 대해 일정한 비율로 부과되지만, 기본 공제와 특별 공제를 반영하면 실제 세 부담은 달라질 수 있습니다. 소득세 계산기를 사용하거나 세무 전문가에게 문의하여 정확한 금액을 확인하는 것이 좋습니다.'}"
      ]
     },
     "execution_count": 29,
     "metadata": {},
     "output_type": "execute_result"
    }
   ],
   "source": [
    "ai_message"
   ]
  },
  {
   "cell_type": "code",
   "execution_count": 30,
   "id": "6881420e",
   "metadata": {},
   "outputs": [
    {
     "name": "stdout",
     "output_type": "stream",
     "text": [
      "Note: you may need to restart the kernel to use updated packages.\n"
     ]
    },
    {
     "name": "stderr",
     "output_type": "stream",
     "text": [
      "  WARNING: The script cpuinfo.exe is installed in 'c:\\Users\\softone\\.pyenv\\pyenv-win\\versions\\3.10.11\\Scripts' which is not on PATH.\n",
      "  Consider adding this directory to PATH or, if you prefer to suppress this warning, use --no-warn-script-location.\n",
      "  WARNING: The scripts py.test.exe and pytest.exe are installed in 'c:\\Users\\softone\\.pyenv\\pyenv-win\\versions\\3.10.11\\Scripts' which is not on PATH.\n",
      "  Consider adding this directory to PATH or, if you prefer to suppress this warning, use --no-warn-script-location.\n",
      "  WARNING: The scripts py.test-benchmark.exe and pytest-benchmark.exe are installed in 'c:\\Users\\softone\\.pyenv\\pyenv-win\\versions\\3.10.11\\Scripts' which is not on PATH.\n",
      "  Consider adding this directory to PATH or, if you prefer to suppress this warning, use --no-warn-script-location.\n",
      "  WARNING: The script repl.exe is installed in 'c:\\Users\\softone\\.pyenv\\pyenv-win\\versions\\3.10.11\\Scripts' which is not on PATH.\n",
      "  Consider adding this directory to PATH or, if you prefer to suppress this warning, use --no-warn-script-location.\n",
      "\n",
      "[notice] A new release of pip is available: 23.0.1 -> 25.1.1\n",
      "[notice] To update, run: c:\\Users\\softone\\.pyenv\\pyenv-win\\versions\\3.10.11\\python.exe -m pip install --upgrade pip\n"
     ]
    },
    {
     "name": "stdout",
     "output_type": "stream",
     "text": [
      "Found existing installation: pinecone-notebooks 0.1.1\n",
      "Uninstalling pinecone-notebooks-0.1.1:\n",
      "  Successfully uninstalled pinecone-notebooks-0.1.1\n",
      "Note: you may need to restart the kernel to use updated packages.\n"
     ]
    }
   ],
   "source": [
    "%pip install --upgrade --quiet langchain-pinecone langchain-openai langchain pinecone-notebooks\n",
    "%pip uninstall -y pinecone-notebooks"
   ]
  },
  {
   "cell_type": "code",
   "execution_count": 31,
   "id": "3dd45e1c",
   "metadata": {},
   "outputs": [],
   "source": [
    "import os\n",
    "\n",
    "pinecone_api_key = os.environ.get(\"PINECONE_API_KEY\")"
   ]
  },
  {
   "cell_type": "code",
   "execution_count": 32,
   "id": "af6357c2",
   "metadata": {},
   "outputs": [
    {
     "ename": "PineconeConfigurationError",
     "evalue": "You haven't specified an API key. Please either set the PINECONE_API_KEY environment variable or pass the 'api_key' keyword argument to the Pinecone client constructor.",
     "output_type": "error",
     "traceback": [
      "\u001b[1;31m---------------------------------------------------------------------------\u001b[0m",
      "\u001b[1;31mPineconeConfigurationError\u001b[0m                Traceback (most recent call last)",
      "Cell \u001b[1;32mIn[32], line 3\u001b[0m\n\u001b[0;32m      1\u001b[0m \u001b[38;5;28;01mfrom\u001b[39;00m\u001b[38;5;250m \u001b[39m\u001b[38;5;21;01mpinecone\u001b[39;00m\u001b[38;5;250m \u001b[39m\u001b[38;5;28;01mimport\u001b[39;00m Pinecone\n\u001b[1;32m----> 3\u001b[0m pc \u001b[38;5;241m=\u001b[39m \u001b[43mPinecone\u001b[49m\u001b[43m(\u001b[49m\u001b[43mapi_key\u001b[49m\u001b[38;5;241;43m=\u001b[39;49m\u001b[43mpinecone_api_key\u001b[49m\u001b[43m)\u001b[49m\n",
      "File \u001b[1;32mc:\\Users\\softone\\.pyenv\\pyenv-win\\versions\\3.10.11\\lib\\site-packages\\pinecone\\pinecone.py:70\u001b[0m, in \u001b[0;36mPinecone.__init__\u001b[1;34m(self, api_key, host, proxy_url, proxy_headers, ssl_ca_certs, ssl_verify, additional_headers, pool_threads, **kwargs)\u001b[0m\n\u001b[0;32m     65\u001b[0m     \u001b[38;5;28;01mif\u001b[39;00m deprecated_kwarg \u001b[38;5;129;01min\u001b[39;00m kwargs:\n\u001b[0;32m     66\u001b[0m         \u001b[38;5;28;01mraise\u001b[39;00m \u001b[38;5;167;01mNotImplementedError\u001b[39;00m(\n\u001b[0;32m     67\u001b[0m             \u001b[38;5;124mf\u001b[39m\u001b[38;5;124m\"\u001b[39m\u001b[38;5;124mPassing \u001b[39m\u001b[38;5;132;01m{\u001b[39;00mdeprecated_kwarg\u001b[38;5;132;01m}\u001b[39;00m\u001b[38;5;124m is no longer supported. Please pass individual settings such as proxy_url, proxy_headers, ssl_ca_certs, and ssl_verify directly to the Pinecone constructor as keyword arguments. See the README at \u001b[39m\u001b[38;5;132;01m{\u001b[39;00mdocslinks[\u001b[38;5;124m'\u001b[39m\u001b[38;5;124mREADME\u001b[39m\u001b[38;5;124m'\u001b[39m]\u001b[38;5;132;01m}\u001b[39;00m\u001b[38;5;124m for examples.\u001b[39m\u001b[38;5;124m\"\u001b[39m\n\u001b[0;32m     68\u001b[0m         )\n\u001b[1;32m---> 70\u001b[0m \u001b[38;5;28mself\u001b[39m\u001b[38;5;241m.\u001b[39m_config \u001b[38;5;241m=\u001b[39m PineconeConfig\u001b[38;5;241m.\u001b[39mbuild(\n\u001b[0;32m     71\u001b[0m     api_key\u001b[38;5;241m=\u001b[39mapi_key,\n\u001b[0;32m     72\u001b[0m     host\u001b[38;5;241m=\u001b[39mhost,\n\u001b[0;32m     73\u001b[0m     additional_headers\u001b[38;5;241m=\u001b[39madditional_headers,\n\u001b[0;32m     74\u001b[0m     proxy_url\u001b[38;5;241m=\u001b[39mproxy_url,\n\u001b[0;32m     75\u001b[0m     proxy_headers\u001b[38;5;241m=\u001b[39mproxy_headers,\n\u001b[0;32m     76\u001b[0m     ssl_ca_certs\u001b[38;5;241m=\u001b[39mssl_ca_certs,\n\u001b[0;32m     77\u001b[0m     ssl_verify\u001b[38;5;241m=\u001b[39mssl_verify,\n\u001b[0;32m     78\u001b[0m     \u001b[38;5;241m*\u001b[39m\u001b[38;5;241m*\u001b[39mkwargs,\n\u001b[0;32m     79\u001b[0m )\n\u001b[0;32m     80\u001b[0m \u001b[38;5;250m\u001b[39m\u001b[38;5;124;03m\"\"\" @private \"\"\"\u001b[39;00m\n\u001b[0;32m     82\u001b[0m \u001b[38;5;28mself\u001b[39m\u001b[38;5;241m.\u001b[39m_openapi_config \u001b[38;5;241m=\u001b[39m ConfigBuilder\u001b[38;5;241m.\u001b[39mbuild_openapi_config(\u001b[38;5;28mself\u001b[39m\u001b[38;5;241m.\u001b[39m_config, \u001b[38;5;241m*\u001b[39m\u001b[38;5;241m*\u001b[39mkwargs)\n",
      "File \u001b[1;32mc:\\Users\\softone\\.pyenv\\pyenv-win\\versions\\3.10.11\\lib\\site-packages\\pinecone\\config\\pinecone_config.py:35\u001b[0m, in \u001b[0;36mPineconeConfig.build\u001b[1;34m(api_key, host, additional_headers, **kwargs)\u001b[0m\n\u001b[0;32m     32\u001b[0m     \u001b[38;5;28;01mexcept\u001b[39;00m \u001b[38;5;167;01mException\u001b[39;00m \u001b[38;5;28;01mas\u001b[39;00m e:\n\u001b[0;32m     33\u001b[0m         logger\u001b[38;5;241m.\u001b[39mwarn(\u001b[38;5;124mf\u001b[39m\u001b[38;5;124m\"\u001b[39m\u001b[38;5;124mIgnoring PINECONE_ADDITIONAL_HEADERS: \u001b[39m\u001b[38;5;132;01m{\u001b[39;00me\u001b[38;5;132;01m}\u001b[39;00m\u001b[38;5;124m\"\u001b[39m)\n\u001b[1;32m---> 35\u001b[0m \u001b[38;5;28;01mreturn\u001b[39;00m ConfigBuilder\u001b[38;5;241m.\u001b[39mbuild(\n\u001b[0;32m     36\u001b[0m     api_key\u001b[38;5;241m=\u001b[39mapi_key, host\u001b[38;5;241m=\u001b[39mhost, additional_headers\u001b[38;5;241m=\u001b[39madditional_headers, \u001b[38;5;241m*\u001b[39m\u001b[38;5;241m*\u001b[39mkwargs\n\u001b[0;32m     37\u001b[0m )\n",
      "File \u001b[1;32mc:\\Users\\softone\\.pyenv\\pyenv-win\\versions\\3.10.11\\lib\\site-packages\\pinecone\\config\\config.py:67\u001b[0m, in \u001b[0;36mConfigBuilder.build\u001b[1;34m(api_key, host, proxy_url, proxy_headers, ssl_ca_certs, ssl_verify, additional_headers, **kwargs)\u001b[0m\n\u001b[0;32m     64\u001b[0m source_tag \u001b[38;5;241m=\u001b[39m kwargs\u001b[38;5;241m.\u001b[39mpop(\u001b[38;5;124m\"\u001b[39m\u001b[38;5;124msource_tag\u001b[39m\u001b[38;5;124m\"\u001b[39m, \u001b[38;5;28;01mNone\u001b[39;00m)\n\u001b[0;32m     66\u001b[0m \u001b[38;5;28;01mif\u001b[39;00m \u001b[38;5;129;01mnot\u001b[39;00m api_key:\n\u001b[1;32m---> 67\u001b[0m     \u001b[38;5;28;01mraise\u001b[39;00m PineconeConfigurationError(\n\u001b[0;32m     68\u001b[0m         \u001b[38;5;124m\"\u001b[39m\u001b[38;5;124mYou haven\u001b[39m\u001b[38;5;124m'\u001b[39m\u001b[38;5;124mt specified an API key. Please either set the PINECONE_API_KEY environment variable or pass the \u001b[39m\u001b[38;5;124m'\u001b[39m\u001b[38;5;124mapi_key\u001b[39m\u001b[38;5;124m'\u001b[39m\u001b[38;5;124m keyword argument to the Pinecone client constructor.\u001b[39m\u001b[38;5;124m\"\u001b[39m\n\u001b[0;32m     69\u001b[0m     )\n\u001b[0;32m     70\u001b[0m \u001b[38;5;28;01mif\u001b[39;00m \u001b[38;5;129;01mnot\u001b[39;00m host:\n\u001b[0;32m     71\u001b[0m     \u001b[38;5;28;01mraise\u001b[39;00m PineconeConfigurationError(\u001b[38;5;124m\"\u001b[39m\u001b[38;5;124mYou haven\u001b[39m\u001b[38;5;124m'\u001b[39m\u001b[38;5;124mt specified a host.\u001b[39m\u001b[38;5;124m\"\u001b[39m)\n",
      "\u001b[1;31mPineconeConfigurationError\u001b[0m: You haven't specified an API key. Please either set the PINECONE_API_KEY environment variable or pass the 'api_key' keyword argument to the Pinecone client constructor."
     ]
    }
   ],
   "source": [
    "from pinecone import Pinecone\n",
    "\n",
    "pc = Pinecone(api_key=pinecone_api_key)"
   ]
  }
 ],
 "metadata": {
  "kernelspec": {
   "display_name": "3.10.11",
   "language": "python",
   "name": "python3"
  },
  "language_info": {
   "codemirror_mode": {
    "name": "ipython",
    "version": 3
   },
   "file_extension": ".py",
   "mimetype": "text/x-python",
   "name": "python",
   "nbconvert_exporter": "python",
   "pygments_lexer": "ipython3",
   "version": "3.10.11"
  }
 },
 "nbformat": 4,
 "nbformat_minor": 5
}
